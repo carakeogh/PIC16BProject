{
 "cells": [
  {
   "cell_type": "code",
   "execution_count": null,
   "id": "05b5d88e",
   "metadata": {},
   "outputs": [],
   "source": [
    "import random\n",
    "import matplotlib.pyplot as plt\n",
    "import numpy as np"
   ]
  },
  {
   "cell_type": "code",
   "execution_count": null,
   "id": "a46dac88",
   "metadata": {},
   "outputs": [],
   "source": [
    "#\"Topwear\", \"Bottomwear\", \"Shoes\", \"Belts\", \"Socks\", \"Dress\"\n",
    "\n",
    "k = 5\n",
    "\n",
    "df_type = df[df[subCategory] == name]\n",
    "rand_pieces = random.sample(df_type[\"link\"], k)\n",
    "\n",
    "for i in range(k+1):\n",
    "    ax = plt.subplot(1, 1, 1)\n",
    "    plt.imshow(rand_pieces[i])\n",
    "    plt.axis(\"off\")"
   ]
  }
 ],
 "metadata": {
  "kernelspec": {
   "display_name": "Python 3 (ipykernel)",
   "language": "python",
   "name": "python3"
  },
  "language_info": {
   "codemirror_mode": {
    "name": "ipython",
    "version": 3
   },
   "file_extension": ".py",
   "mimetype": "text/x-python",
   "name": "python",
   "nbconvert_exporter": "python",
   "pygments_lexer": "ipython3",
   "version": "3.9.7"
  }
 },
 "nbformat": 4,
 "nbformat_minor": 5
}
