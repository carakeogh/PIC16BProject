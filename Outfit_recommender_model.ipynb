{
  "nbformat": 4,
  "nbformat_minor": 0,
  "metadata": {
    "colab": {
      "name": "Outfit_recommender_model",
      "provenance": []
    },
    "kernelspec": {
      "name": "python3",
      "display_name": "Python 3"
    },
    "language_info": {
      "name": "python"
    },
    "accelerator": "GPU"
  },
  "cells": [
    {
      "cell_type": "code",
      "execution_count": 46,
      "metadata": {
        "id": "bma7s7oCiepr"
      },
      "outputs": [],
      "source": [
        "# credit: https://www.kaggle.com/niharika41298/product-recommendations-plotly-dash-interactive-ui/notebook\n",
        "from PIL import Image\n",
        "import os\n",
        "import matplotlib.pyplot as plt\n",
        "import numpy as np\n",
        "import tensorflow as tf\n",
        "import json\n",
        "from keras.applications import vgg16\n",
        "from keras.preprocessing.image import load_img,img_to_array, ImageDataGenerator\n",
        "from keras.models import Model\n",
        "from keras.applications.imagenet_utils import preprocess_input\n",
        "from keras import layers, optimizers, utils\n",
        "from sklearn.metrics.pairwise import cosine_similarity\n",
        "import pandas as pd"
      ]
    },
    {
      "cell_type": "code",
      "source": [
        "# install kaggle\n",
        "# we will import our data set directly from kaggle\n",
        "\n",
        "! pip install kaggle"
      ],
      "metadata": {
        "colab": {
          "base_uri": "https://localhost:8080/"
        },
        "id": "pbTPJjAbiijl",
        "outputId": "a444f05b-e5f0-4ffa-d965-d138a4cccf3a"
      },
      "execution_count": 2,
      "outputs": [
        {
          "output_type": "stream",
          "name": "stdout",
          "text": [
            "Requirement already satisfied: kaggle in /usr/local/lib/python3.7/dist-packages (1.5.12)\n",
            "Requirement already satisfied: tqdm in /usr/local/lib/python3.7/dist-packages (from kaggle) (4.62.3)\n",
            "Requirement already satisfied: requests in /usr/local/lib/python3.7/dist-packages (from kaggle) (2.23.0)\n",
            "Requirement already satisfied: urllib3 in /usr/local/lib/python3.7/dist-packages (from kaggle) (1.24.3)\n",
            "Requirement already satisfied: six>=1.10 in /usr/local/lib/python3.7/dist-packages (from kaggle) (1.15.0)\n",
            "Requirement already satisfied: certifi in /usr/local/lib/python3.7/dist-packages (from kaggle) (2021.10.8)\n",
            "Requirement already satisfied: python-slugify in /usr/local/lib/python3.7/dist-packages (from kaggle) (6.1.0)\n",
            "Requirement already satisfied: python-dateutil in /usr/local/lib/python3.7/dist-packages (from kaggle) (2.8.2)\n",
            "Requirement already satisfied: text-unidecode>=1.3 in /usr/local/lib/python3.7/dist-packages (from python-slugify->kaggle) (1.3)\n",
            "Requirement already satisfied: idna<3,>=2.5 in /usr/local/lib/python3.7/dist-packages (from requests->kaggle) (2.10)\n",
            "Requirement already satisfied: chardet<4,>=3.0.2 in /usr/local/lib/python3.7/dist-packages (from requests->kaggle) (3.0.4)\n"
          ]
        }
      ]
    },
    {
      "cell_type": "code",
      "source": [
        "! mkdir /content/.kaggle"
      ],
      "metadata": {
        "id": "_AGlmzY1imEP",
        "colab": {
          "base_uri": "https://localhost:8080/"
        },
        "outputId": "b7ba52f8-5b9f-47ae-dc60-cac3e7c84c32"
      },
      "execution_count": 3,
      "outputs": [
        {
          "output_type": "stream",
          "name": "stdout",
          "text": [
            "mkdir: cannot create directory ‘/content/.kaggle’: File exists\n"
          ]
        }
      ]
    },
    {
      "cell_type": "code",
      "source": [
        "# upload kaggle API to sample_data before running this code block\n",
        "# (Tutorial: https://www.analyticsvidhya.com/blog/2021/06/how-to-load-kaggle-datasets-directly-into-google-colab/)\n",
        "! cp /content/sample_data/kaggle.json ~/.kaggle/"
      ],
      "metadata": {
        "id": "3tI1eGsJ3bfT"
      },
      "execution_count": null,
      "outputs": []
    },
    {
      "cell_type": "code",
      "source": [
        "! chmod 600 ~/.kaggle/kaggle.json"
      ],
      "metadata": {
        "id": "-F9L4YsLwrRr"
      },
      "execution_count": null,
      "outputs": []
    },
    {
      "cell_type": "code",
      "source": [
        "! kaggle datasets download paramaggarwal/fashion-product-images-small"
      ],
      "metadata": {
        "id": "ywiBNNWqk2Zk"
      },
      "execution_count": null,
      "outputs": []
    },
    {
      "cell_type": "code",
      "source": [
        "! unzip fashion-product-images-small.zip"
      ],
      "metadata": {
        "id": "oS2rgPwTxCqm"
      },
      "execution_count": null,
      "outputs": []
    },
    {
      "cell_type": "code",
      "source": [
        "imgs_path = \"/content/images/\"\n",
        "imgs_model_width, imgs_model_height = 224, 224\n",
        "nb_closest_images = 5"
      ],
      "metadata": {
        "id": "IePLy2nuvexk"
      },
      "execution_count": 56,
      "outputs": []
    },
    {
      "cell_type": "code",
      "source": [
        "files = [imgs_path + x for x in os.listdir(imgs_path) if \"jpg\" in x]\n",
        "print(\"Total number of images:\",len(files))"
      ],
      "metadata": {
        "colab": {
          "base_uri": "https://localhost:8080/"
        },
        "id": "cZr3VIBUyPcU",
        "outputId": "58030d0b-425e-4a5f-c4f3-f49e34af80cf"
      },
      "execution_count": 57,
      "outputs": [
        {
          "output_type": "stream",
          "name": "stdout",
          "text": [
            "Total number of images: 44441\n"
          ]
        }
      ]
    },
    {
      "cell_type": "code",
      "source": [
        "# In order to reduce compilation time of the algorithm, we reduce the data to 500 images\n",
        "files=files[0:500]"
      ],
      "metadata": {
        "id": "DbTUQfQoGLBY"
      },
      "execution_count": 58,
      "outputs": []
    },
    {
      "cell_type": "code",
      "source": [
        "# visualize our data set\n",
        "original = load_img(files[5], target_size=(imgs_model_width, imgs_model_height))\n",
        "plt.imshow(original)\n",
        "plt.show()"
      ],
      "metadata": {
        "colab": {
          "base_uri": "https://localhost:8080/",
          "height": 269
        },
        "id": "KzwuHqvvyScg",
        "outputId": "9df9e504-d046-4288-b9c8-9f157cad31fb"
      },
      "execution_count": 60,
      "outputs": [
        {
          "output_type": "display_data",
          "data": {
            "image/png": "[encoded data removed]",
            "text/plain": [
              "<Figure size 432x288 with 1 Axes>"
            ]
          },
          "metadata": {
            "needs_background": "light"
          }
        }
      ]
    },
    {
      "cell_type": "code",
      "source": [
        "from keras import models\n",
        "# load the model - Vgg16\n",
        "# introduction of the model: https://medium.com/@mygreatlearning/what-is-vgg16-introduction-to-vgg16-f2d63849f615\n",
        "vgg_model = vgg16.VGG16(weights='imagenet')\n",
        "\n",
        "# # remove the last layers in order to get features instead of predictions\n",
        "model = Model(inputs=vgg_model.input, outputs=vgg_model.get_layer(\"fc2\").output)\n",
        "\n",
        "# print model summary\n",
        "model.summary()"
      ],
      "metadata": {
        "colab": {
          "base_uri": "https://localhost:8080/"
        },
        "id": "sGiHAGtkyafa",
        "outputId": "df3f7d52-28e9-4442-a012-d592c36ffbac"
      },
      "execution_count": 61,
      "outputs": [
        {
          "output_type": "stream",
          "name": "stdout",
          "text": [
            "Model: \"model_2\"\n",
            "_________________________________________________________________\n",
            " Layer (type)                Output Shape              Param #   \n",
            "=================================================================\n",
            " input_6 (InputLayer)        [(None, 224, 224, 3)]     0         \n",
            "                                                                 \n",
            " block1_conv1 (Conv2D)       (None, 224, 224, 64)      1792      \n",
            "                                                                 \n",
            " block1_conv2 (Conv2D)       (None, 224, 224, 64)      36928     \n",
            "                                                                 \n",
            " block1_pool (MaxPooling2D)  (None, 112, 112, 64)      0         \n",
            "                                                                 \n",
            " block2_conv1 (Conv2D)       (None, 112, 112, 128)     73856     \n",
            "                                                                 \n",
            " block2_conv2 (Conv2D)       (None, 112, 112, 128)     147584    \n",
            "                                                                 \n",
            " block2_pool (MaxPooling2D)  (None, 56, 56, 128)       0         \n",
            "                                                                 \n",
            " block3_conv1 (Conv2D)       (None, 56, 56, 256)       295168    \n",
            "                                                                 \n",
            " block3_conv2 (Conv2D)       (None, 56, 56, 256)       590080    \n",
            "                                                                 \n",
            " block3_conv3 (Conv2D)       (None, 56, 56, 256)       590080    \n",
            "                                                                 \n",
            " block3_pool (MaxPooling2D)  (None, 28, 28, 256)       0         \n",
            "                                                                 \n",
            " block4_conv1 (Conv2D)       (None, 28, 28, 512)       1180160   \n",
            "                                                                 \n",
            " block4_conv2 (Conv2D)       (None, 28, 28, 512)       2359808   \n",
            "                                                                 \n",
            " block4_conv3 (Conv2D)       (None, 28, 28, 512)       2359808   \n",
            "                                                                 \n",
            " block4_pool (MaxPooling2D)  (None, 14, 14, 512)       0         \n",
            "                                                                 \n",
            " block5_conv1 (Conv2D)       (None, 14, 14, 512)       2359808   \n",
            "                                                                 \n",
            " block5_conv2 (Conv2D)       (None, 14, 14, 512)       2359808   \n",
            "                                                                 \n",
            " block5_conv3 (Conv2D)       (None, 14, 14, 512)       2359808   \n",
            "                                                                 \n",
            " block5_pool (MaxPooling2D)  (None, 7, 7, 512)         0         \n",
            "                                                                 \n",
            " flatten (Flatten)           (None, 25088)             0         \n",
            "                                                                 \n",
            " fc1 (Dense)                 (None, 4096)              102764544 \n",
            "                                                                 \n",
            " fc2 (Dense)                 (None, 4096)              16781312  \n",
            "                                                                 \n",
            "=================================================================\n",
            "Total params: 134,260,544\n",
            "Trainable params: 134,260,544\n",
            "Non-trainable params: 0\n",
            "_________________________________________________________________\n"
          ]
        }
      ]
    },
    {
      "cell_type": "code",
      "source": [
        "# since vgg16 can only process one image at a time, we train the model with 'original' first\n",
        "numpy_image = img_to_array(original)\n",
        "\n",
        "# convert the image / images into batch format\n",
        "image_batch = np.expand_dims(numpy_image, axis=0)\n",
        "print('Image Batch size', image_batch.shape)\n",
        "\n",
        "# prepare the image for the VGG model\n",
        "processed_image = preprocess_input(image_batch.copy())"
      ],
      "metadata": {
        "colab": {
          "base_uri": "https://localhost:8080/"
        },
        "id": "FUvHzO6l049D",
        "outputId": "c5a39ca5-4e3f-4a89-e5fb-ee9d5b14abef"
      },
      "execution_count": 62,
      "outputs": [
        {
          "output_type": "stream",
          "name": "stdout",
          "text": [
            "Image Batch size (1, 224, 224, 3)\n"
          ]
        }
      ]
    },
    {
      "cell_type": "code",
      "source": [
        "# predict our training data\n",
        "img_features = model.predict(processed_image)\n",
        "img_features"
      ],
      "metadata": {
        "colab": {
          "base_uri": "https://localhost:8080/"
        },
        "id": "x6BarMFZ2CrB",
        "outputId": "ee4d0a78-a43d-4fee-81f6-e1a6f6ef5fe8"
      },
      "execution_count": 63,
      "outputs": [
        {
          "output_type": "execute_result",
          "data": {
            "text/plain": [
              "array([[1.2384202, 0.       , 0.       , ..., 0.5392959, 0.       ,\n",
              "        3.4579988]], dtype=float32)"
            ]
          },
          "metadata": {},
          "execution_count": 63
        }
      ]
    },
    {
      "cell_type": "code",
      "source": [
        "# now we run all 500 images we extracted through our model\n",
        "importedImages = []\n",
        "\n",
        "for f in files:\n",
        "    filename = f\n",
        "    original = load_img(filename, target_size=(224, 224))\n",
        "    numpy_image = img_to_array(original)\n",
        "    image_batch = np.expand_dims(numpy_image, axis=0)\n",
        "    \n",
        "    importedImages.append(image_batch)\n",
        "    \n",
        "images = np.vstack(importedImages)\n",
        "\n",
        "processed_imgs = preprocess_input(images.copy())"
      ],
      "metadata": {
        "id": "g2Mvibdo2HWN"
      },
      "execution_count": 69,
      "outputs": []
    },
    {
      "cell_type": "code",
      "source": [
        "imgs_features = model.predict(processed_imgs)"
      ],
      "metadata": {
        "id": "uY7-jiMS2PSA"
      },
      "execution_count": 68,
      "outputs": []
    },
    {
      "cell_type": "code",
      "source": [
        "# now find the cosine similarities between each images\n",
        "cosSimilarities = cosine_similarity(imgs_features)\n",
        "\n",
        "# store the results into a pandas dataframe\n",
        "cos_similarities_df = pd.DataFrame(cosSimilarities, columns=files, index=files)\n",
        "cos_similarities_df.head()"
      ],
      "metadata": {
        "id": "AMCNbJOx2Vkt",
        "colab": {
          "base_uri": "https://localhost:8080/",
          "height": 299
        },
        "outputId": "1f06fff8-6f74-46e3-ddab-f63534050353"
      },
      "execution_count": 70,
      "outputs": [
        {
          "output_type": "execute_result",
          "data": {
            "text/html": [
              "\n",
              "  <div id=\"df-78dcd672-ef37-43c6-95e7-8fa87e73c0a5\">\n",
              "    <div class=\"colab-df-container\">\n",
              "      <div>\n",
              "<style scoped>\n",
              "    .dataframe tbody tr th:only-of-type {\n",
              "        vertical-align: middle;\n",
              "    }\n",
              "\n",
              "    .dataframe tbody tr th {\n",
              "        vertical-align: top;\n",
              "    }\n",
              "\n",
              "    .dataframe thead th {\n",
              "        text-align: right;\n",
              "    }\n",
              "</style>\n",
              "<table border=\"1\" class=\"dataframe\">\n",
              "  <thead>\n",
              "    <tr style=\"text-align: right;\">\n",
              "      <th></th>\n",
              "      <th>/content/images/24274.jpg</th>\n",
              "      <th>/content/images/43687.jpg</th>\n",
              "      <th>/content/images/22612.jpg</th>\n",
              "      <th>/content/images/18634.jpg</th>\n",
              "      <th>/content/images/24941.jpg</th>\n",
              "      <th>/content/images/45875.jpg</th>\n",
              "      <th>/content/images/7780.jpg</th>\n",
              "      <th>/content/images/56455.jpg</th>\n",
              "      <th>/content/images/4130.jpg</th>\n",
              "      <th>/content/images/40198.jpg</th>\n",
              "      <th>/content/images/21344.jpg</th>\n",
              "      <th>/content/images/16441.jpg</th>\n",
              "      <th>/content/images/51424.jpg</th>\n",
              "      <th>/content/images/53114.jpg</th>\n",
              "      <th>/content/images/23263.jpg</th>\n",
              "      <th>/content/images/37094.jpg</th>\n",
              "      <th>/content/images/7060.jpg</th>\n",
              "      <th>/content/images/35092.jpg</th>\n",
              "      <th>/content/images/44446.jpg</th>\n",
              "      <th>/content/images/4593.jpg</th>\n",
              "      <th>/content/images/13874.jpg</th>\n",
              "      <th>/content/images/36382.jpg</th>\n",
              "      <th>/content/images/28599.jpg</th>\n",
              "      <th>/content/images/18665.jpg</th>\n",
              "      <th>/content/images/6304.jpg</th>\n",
              "      <th>/content/images/49523.jpg</th>\n",
              "      <th>/content/images/3911.jpg</th>\n",
              "      <th>/content/images/37450.jpg</th>\n",
              "      <th>/content/images/41879.jpg</th>\n",
              "      <th>/content/images/35409.jpg</th>\n",
              "      <th>/content/images/15235.jpg</th>\n",
              "      <th>/content/images/49232.jpg</th>\n",
              "      <th>/content/images/44757.jpg</th>\n",
              "      <th>/content/images/57329.jpg</th>\n",
              "      <th>/content/images/19200.jpg</th>\n",
              "      <th>/content/images/11790.jpg</th>\n",
              "      <th>/content/images/36499.jpg</th>\n",
              "      <th>/content/images/24755.jpg</th>\n",
              "      <th>/content/images/19830.jpg</th>\n",
              "      <th>/content/images/54319.jpg</th>\n",
              "      <th>...</th>\n",
              "      <th>/content/images/55221.jpg</th>\n",
              "      <th>/content/images/33618.jpg</th>\n",
              "      <th>/content/images/47692.jpg</th>\n",
              "      <th>/content/images/17232.jpg</th>\n",
              "      <th>/content/images/7329.jpg</th>\n",
              "      <th>/content/images/7715.jpg</th>\n",
              "      <th>/content/images/21618.jpg</th>\n",
              "      <th>/content/images/17075.jpg</th>\n",
              "      <th>/content/images/23474.jpg</th>\n",
              "      <th>/content/images/17211.jpg</th>\n",
              "      <th>/content/images/57824.jpg</th>\n",
              "      <th>/content/images/36559.jpg</th>\n",
              "      <th>/content/images/12414.jpg</th>\n",
              "      <th>/content/images/54622.jpg</th>\n",
              "      <th>/content/images/12346.jpg</th>\n",
              "      <th>/content/images/56346.jpg</th>\n",
              "      <th>/content/images/13174.jpg</th>\n",
              "      <th>/content/images/41992.jpg</th>\n",
              "      <th>/content/images/25985.jpg</th>\n",
              "      <th>/content/images/46795.jpg</th>\n",
              "      <th>/content/images/18839.jpg</th>\n",
              "      <th>/content/images/44824.jpg</th>\n",
              "      <th>/content/images/30764.jpg</th>\n",
              "      <th>/content/images/43237.jpg</th>\n",
              "      <th>/content/images/42684.jpg</th>\n",
              "      <th>/content/images/43846.jpg</th>\n",
              "      <th>/content/images/35438.jpg</th>\n",
              "      <th>/content/images/6581.jpg</th>\n",
              "      <th>/content/images/28547.jpg</th>\n",
              "      <th>/content/images/17784.jpg</th>\n",
              "      <th>/content/images/48142.jpg</th>\n",
              "      <th>/content/images/10865.jpg</th>\n",
              "      <th>/content/images/53749.jpg</th>\n",
              "      <th>/content/images/43388.jpg</th>\n",
              "      <th>/content/images/22573.jpg</th>\n",
              "      <th>/content/images/39156.jpg</th>\n",
              "      <th>/content/images/50016.jpg</th>\n",
              "      <th>/content/images/45095.jpg</th>\n",
              "      <th>/content/images/40120.jpg</th>\n",
              "      <th>/content/images/3350.jpg</th>\n",
              "    </tr>\n",
              "  </thead>\n",
              "  <tbody>\n",
              "    <tr>\n",
              "      <th>/content/images/24274.jpg</th>\n",
              "      <td>1.000000</td>\n",
              "      <td>0.359362</td>\n",
              "      <td>0.471643</td>\n",
              "      <td>0.642062</td>\n",
              "      <td>0.461697</td>\n",
              "      <td>0.452080</td>\n",
              "      <td>0.330689</td>\n",
              "      <td>0.416628</td>\n",
              "      <td>0.234257</td>\n",
              "      <td>0.634479</td>\n",
              "      <td>0.335775</td>\n",
              "      <td>0.664416</td>\n",
              "      <td>0.671246</td>\n",
              "      <td>0.629937</td>\n",
              "      <td>0.438392</td>\n",
              "      <td>0.521406</td>\n",
              "      <td>0.299324</td>\n",
              "      <td>0.514434</td>\n",
              "      <td>0.303941</td>\n",
              "      <td>0.457719</td>\n",
              "      <td>0.698578</td>\n",
              "      <td>0.440208</td>\n",
              "      <td>0.298917</td>\n",
              "      <td>0.294902</td>\n",
              "      <td>0.237936</td>\n",
              "      <td>0.277462</td>\n",
              "      <td>0.528351</td>\n",
              "      <td>0.260931</td>\n",
              "      <td>0.307689</td>\n",
              "      <td>0.265031</td>\n",
              "      <td>0.404588</td>\n",
              "      <td>0.361323</td>\n",
              "      <td>0.323274</td>\n",
              "      <td>0.459492</td>\n",
              "      <td>0.727923</td>\n",
              "      <td>0.586646</td>\n",
              "      <td>0.583613</td>\n",
              "      <td>0.425070</td>\n",
              "      <td>0.746488</td>\n",
              "      <td>0.390197</td>\n",
              "      <td>...</td>\n",
              "      <td>0.361618</td>\n",
              "      <td>0.334593</td>\n",
              "      <td>0.415097</td>\n",
              "      <td>0.695769</td>\n",
              "      <td>0.329840</td>\n",
              "      <td>0.316371</td>\n",
              "      <td>0.259670</td>\n",
              "      <td>0.287870</td>\n",
              "      <td>0.541866</td>\n",
              "      <td>0.302867</td>\n",
              "      <td>0.451837</td>\n",
              "      <td>0.658031</td>\n",
              "      <td>0.366262</td>\n",
              "      <td>0.485492</td>\n",
              "      <td>0.508746</td>\n",
              "      <td>0.501437</td>\n",
              "      <td>0.382771</td>\n",
              "      <td>0.412161</td>\n",
              "      <td>0.498877</td>\n",
              "      <td>0.287046</td>\n",
              "      <td>0.279379</td>\n",
              "      <td>0.227467</td>\n",
              "      <td>0.598546</td>\n",
              "      <td>0.318641</td>\n",
              "      <td>0.547931</td>\n",
              "      <td>0.493488</td>\n",
              "      <td>0.465615</td>\n",
              "      <td>0.528968</td>\n",
              "      <td>0.518276</td>\n",
              "      <td>0.427888</td>\n",
              "      <td>0.367550</td>\n",
              "      <td>0.719429</td>\n",
              "      <td>0.423943</td>\n",
              "      <td>0.291394</td>\n",
              "      <td>0.639135</td>\n",
              "      <td>0.532170</td>\n",
              "      <td>0.570134</td>\n",
              "      <td>0.579730</td>\n",
              "      <td>0.608961</td>\n",
              "      <td>0.625064</td>\n",
              "    </tr>\n",
              "    <tr>\n",
              "      <th>/content/images/43687.jpg</th>\n",
              "      <td>0.359362</td>\n",
              "      <td>1.000000</td>\n",
              "      <td>0.521039</td>\n",
              "      <td>0.359029</td>\n",
              "      <td>0.623569</td>\n",
              "      <td>0.452070</td>\n",
              "      <td>0.555438</td>\n",
              "      <td>0.550904</td>\n",
              "      <td>0.335973</td>\n",
              "      <td>0.464161</td>\n",
              "      <td>0.437414</td>\n",
              "      <td>0.543689</td>\n",
              "      <td>0.500337</td>\n",
              "      <td>0.394696</td>\n",
              "      <td>0.441359</td>\n",
              "      <td>0.461600</td>\n",
              "      <td>0.382773</td>\n",
              "      <td>0.433592</td>\n",
              "      <td>0.411919</td>\n",
              "      <td>0.455337</td>\n",
              "      <td>0.368314</td>\n",
              "      <td>0.497366</td>\n",
              "      <td>0.415331</td>\n",
              "      <td>0.359237</td>\n",
              "      <td>0.310227</td>\n",
              "      <td>0.430066</td>\n",
              "      <td>0.430069</td>\n",
              "      <td>0.334720</td>\n",
              "      <td>0.409661</td>\n",
              "      <td>0.319670</td>\n",
              "      <td>0.426202</td>\n",
              "      <td>0.473765</td>\n",
              "      <td>0.349419</td>\n",
              "      <td>0.472405</td>\n",
              "      <td>0.396436</td>\n",
              "      <td>0.574783</td>\n",
              "      <td>0.422959</td>\n",
              "      <td>0.464053</td>\n",
              "      <td>0.416599</td>\n",
              "      <td>0.446754</td>\n",
              "      <td>...</td>\n",
              "      <td>0.518686</td>\n",
              "      <td>0.512407</td>\n",
              "      <td>0.510369</td>\n",
              "      <td>0.479304</td>\n",
              "      <td>0.368094</td>\n",
              "      <td>0.363596</td>\n",
              "      <td>0.411065</td>\n",
              "      <td>0.352788</td>\n",
              "      <td>0.436824</td>\n",
              "      <td>0.447930</td>\n",
              "      <td>0.428586</td>\n",
              "      <td>0.333922</td>\n",
              "      <td>0.540040</td>\n",
              "      <td>0.375559</td>\n",
              "      <td>0.368598</td>\n",
              "      <td>0.402058</td>\n",
              "      <td>0.410317</td>\n",
              "      <td>0.513870</td>\n",
              "      <td>0.454029</td>\n",
              "      <td>0.402137</td>\n",
              "      <td>0.320707</td>\n",
              "      <td>0.379567</td>\n",
              "      <td>0.405992</td>\n",
              "      <td>0.347682</td>\n",
              "      <td>0.465531</td>\n",
              "      <td>0.464403</td>\n",
              "      <td>0.696546</td>\n",
              "      <td>0.508204</td>\n",
              "      <td>0.625621</td>\n",
              "      <td>0.519179</td>\n",
              "      <td>0.516045</td>\n",
              "      <td>0.439920</td>\n",
              "      <td>0.420019</td>\n",
              "      <td>0.437483</td>\n",
              "      <td>0.413314</td>\n",
              "      <td>0.385715</td>\n",
              "      <td>0.507417</td>\n",
              "      <td>0.546406</td>\n",
              "      <td>0.411905</td>\n",
              "      <td>0.437076</td>\n",
              "    </tr>\n",
              "    <tr>\n",
              "      <th>/content/images/22612.jpg</th>\n",
              "      <td>0.471643</td>\n",
              "      <td>0.521039</td>\n",
              "      <td>1.000000</td>\n",
              "      <td>0.497301</td>\n",
              "      <td>0.561856</td>\n",
              "      <td>0.339955</td>\n",
              "      <td>0.336304</td>\n",
              "      <td>0.337778</td>\n",
              "      <td>0.246242</td>\n",
              "      <td>0.463253</td>\n",
              "      <td>0.321944</td>\n",
              "      <td>0.537756</td>\n",
              "      <td>0.428358</td>\n",
              "      <td>0.453619</td>\n",
              "      <td>0.291890</td>\n",
              "      <td>0.380130</td>\n",
              "      <td>0.298045</td>\n",
              "      <td>0.451016</td>\n",
              "      <td>0.269039</td>\n",
              "      <td>0.294313</td>\n",
              "      <td>0.494355</td>\n",
              "      <td>0.366465</td>\n",
              "      <td>0.315944</td>\n",
              "      <td>0.268912</td>\n",
              "      <td>0.311098</td>\n",
              "      <td>0.263474</td>\n",
              "      <td>0.419569</td>\n",
              "      <td>0.245300</td>\n",
              "      <td>0.332322</td>\n",
              "      <td>0.256745</td>\n",
              "      <td>0.409489</td>\n",
              "      <td>0.366026</td>\n",
              "      <td>0.360654</td>\n",
              "      <td>0.367375</td>\n",
              "      <td>0.449954</td>\n",
              "      <td>0.458057</td>\n",
              "      <td>0.430546</td>\n",
              "      <td>0.384459</td>\n",
              "      <td>0.494055</td>\n",
              "      <td>0.402249</td>\n",
              "      <td>...</td>\n",
              "      <td>0.364190</td>\n",
              "      <td>0.343397</td>\n",
              "      <td>0.378014</td>\n",
              "      <td>0.428449</td>\n",
              "      <td>0.292885</td>\n",
              "      <td>0.306571</td>\n",
              "      <td>0.285851</td>\n",
              "      <td>0.266474</td>\n",
              "      <td>0.461300</td>\n",
              "      <td>0.381337</td>\n",
              "      <td>0.452007</td>\n",
              "      <td>0.353673</td>\n",
              "      <td>0.364087</td>\n",
              "      <td>0.336020</td>\n",
              "      <td>0.346153</td>\n",
              "      <td>0.331513</td>\n",
              "      <td>0.303147</td>\n",
              "      <td>0.518699</td>\n",
              "      <td>0.290557</td>\n",
              "      <td>0.358943</td>\n",
              "      <td>0.254274</td>\n",
              "      <td>0.253567</td>\n",
              "      <td>0.435601</td>\n",
              "      <td>0.315673</td>\n",
              "      <td>0.468373</td>\n",
              "      <td>0.418428</td>\n",
              "      <td>0.470475</td>\n",
              "      <td>0.635827</td>\n",
              "      <td>0.532991</td>\n",
              "      <td>0.399545</td>\n",
              "      <td>0.339852</td>\n",
              "      <td>0.524897</td>\n",
              "      <td>0.465396</td>\n",
              "      <td>0.264422</td>\n",
              "      <td>0.442215</td>\n",
              "      <td>0.522081</td>\n",
              "      <td>0.563077</td>\n",
              "      <td>0.396461</td>\n",
              "      <td>0.540665</td>\n",
              "      <td>0.495183</td>\n",
              "    </tr>\n",
              "    <tr>\n",
              "      <th>/content/images/18634.jpg</th>\n",
              "      <td>0.642062</td>\n",
              "      <td>0.359029</td>\n",
              "      <td>0.497301</td>\n",
              "      <td>1.000000</td>\n",
              "      <td>0.523393</td>\n",
              "      <td>0.348767</td>\n",
              "      <td>0.338176</td>\n",
              "      <td>0.311236</td>\n",
              "      <td>0.245883</td>\n",
              "      <td>0.583074</td>\n",
              "      <td>0.313991</td>\n",
              "      <td>0.646583</td>\n",
              "      <td>0.564944</td>\n",
              "      <td>0.510799</td>\n",
              "      <td>0.307701</td>\n",
              "      <td>0.604417</td>\n",
              "      <td>0.188475</td>\n",
              "      <td>0.406435</td>\n",
              "      <td>0.220059</td>\n",
              "      <td>0.318489</td>\n",
              "      <td>0.650675</td>\n",
              "      <td>0.353700</td>\n",
              "      <td>0.311681</td>\n",
              "      <td>0.240245</td>\n",
              "      <td>0.255947</td>\n",
              "      <td>0.180996</td>\n",
              "      <td>0.510409</td>\n",
              "      <td>0.179326</td>\n",
              "      <td>0.224319</td>\n",
              "      <td>0.176608</td>\n",
              "      <td>0.333501</td>\n",
              "      <td>0.333692</td>\n",
              "      <td>0.211087</td>\n",
              "      <td>0.443319</td>\n",
              "      <td>0.578564</td>\n",
              "      <td>0.453819</td>\n",
              "      <td>0.568599</td>\n",
              "      <td>0.418303</td>\n",
              "      <td>0.607036</td>\n",
              "      <td>0.437505</td>\n",
              "      <td>...</td>\n",
              "      <td>0.299947</td>\n",
              "      <td>0.246678</td>\n",
              "      <td>0.306619</td>\n",
              "      <td>0.611156</td>\n",
              "      <td>0.218837</td>\n",
              "      <td>0.225546</td>\n",
              "      <td>0.215537</td>\n",
              "      <td>0.192470</td>\n",
              "      <td>0.409874</td>\n",
              "      <td>0.305170</td>\n",
              "      <td>0.457034</td>\n",
              "      <td>0.677927</td>\n",
              "      <td>0.275318</td>\n",
              "      <td>0.331698</td>\n",
              "      <td>0.492483</td>\n",
              "      <td>0.364942</td>\n",
              "      <td>0.242154</td>\n",
              "      <td>0.373924</td>\n",
              "      <td>0.385723</td>\n",
              "      <td>0.207497</td>\n",
              "      <td>0.184921</td>\n",
              "      <td>0.212144</td>\n",
              "      <td>0.572827</td>\n",
              "      <td>0.209324</td>\n",
              "      <td>0.558050</td>\n",
              "      <td>0.414755</td>\n",
              "      <td>0.382371</td>\n",
              "      <td>0.616461</td>\n",
              "      <td>0.462317</td>\n",
              "      <td>0.352415</td>\n",
              "      <td>0.256830</td>\n",
              "      <td>0.618423</td>\n",
              "      <td>0.509233</td>\n",
              "      <td>0.229227</td>\n",
              "      <td>0.680102</td>\n",
              "      <td>0.531732</td>\n",
              "      <td>0.637715</td>\n",
              "      <td>0.477003</td>\n",
              "      <td>0.750028</td>\n",
              "      <td>0.630827</td>\n",
              "    </tr>\n",
              "    <tr>\n",
              "      <th>/content/images/24941.jpg</th>\n",
              "      <td>0.461697</td>\n",
              "      <td>0.623569</td>\n",
              "      <td>0.561856</td>\n",
              "      <td>0.523393</td>\n",
              "      <td>1.000000</td>\n",
              "      <td>0.392271</td>\n",
              "      <td>0.333324</td>\n",
              "      <td>0.482417</td>\n",
              "      <td>0.353297</td>\n",
              "      <td>0.553493</td>\n",
              "      <td>0.401969</td>\n",
              "      <td>0.612404</td>\n",
              "      <td>0.536153</td>\n",
              "      <td>0.535788</td>\n",
              "      <td>0.378296</td>\n",
              "      <td>0.438054</td>\n",
              "      <td>0.239349</td>\n",
              "      <td>0.534359</td>\n",
              "      <td>0.389333</td>\n",
              "      <td>0.296513</td>\n",
              "      <td>0.467924</td>\n",
              "      <td>0.529609</td>\n",
              "      <td>0.445187</td>\n",
              "      <td>0.338381</td>\n",
              "      <td>0.369158</td>\n",
              "      <td>0.319575</td>\n",
              "      <td>0.452876</td>\n",
              "      <td>0.297732</td>\n",
              "      <td>0.413645</td>\n",
              "      <td>0.319621</td>\n",
              "      <td>0.454333</td>\n",
              "      <td>0.441834</td>\n",
              "      <td>0.330355</td>\n",
              "      <td>0.499821</td>\n",
              "      <td>0.489558</td>\n",
              "      <td>0.613054</td>\n",
              "      <td>0.575237</td>\n",
              "      <td>0.425120</td>\n",
              "      <td>0.476543</td>\n",
              "      <td>0.485510</td>\n",
              "      <td>...</td>\n",
              "      <td>0.440979</td>\n",
              "      <td>0.371104</td>\n",
              "      <td>0.441050</td>\n",
              "      <td>0.482000</td>\n",
              "      <td>0.337269</td>\n",
              "      <td>0.344652</td>\n",
              "      <td>0.356230</td>\n",
              "      <td>0.318842</td>\n",
              "      <td>0.551185</td>\n",
              "      <td>0.491120</td>\n",
              "      <td>0.509743</td>\n",
              "      <td>0.406562</td>\n",
              "      <td>0.458733</td>\n",
              "      <td>0.392140</td>\n",
              "      <td>0.414673</td>\n",
              "      <td>0.433554</td>\n",
              "      <td>0.406272</td>\n",
              "      <td>0.452671</td>\n",
              "      <td>0.463486</td>\n",
              "      <td>0.388806</td>\n",
              "      <td>0.273388</td>\n",
              "      <td>0.333518</td>\n",
              "      <td>0.562306</td>\n",
              "      <td>0.336746</td>\n",
              "      <td>0.469215</td>\n",
              "      <td>0.606964</td>\n",
              "      <td>0.542377</td>\n",
              "      <td>0.633292</td>\n",
              "      <td>0.537077</td>\n",
              "      <td>0.514067</td>\n",
              "      <td>0.391983</td>\n",
              "      <td>0.487281</td>\n",
              "      <td>0.512575</td>\n",
              "      <td>0.344455</td>\n",
              "      <td>0.497806</td>\n",
              "      <td>0.437851</td>\n",
              "      <td>0.556596</td>\n",
              "      <td>0.567052</td>\n",
              "      <td>0.611412</td>\n",
              "      <td>0.428937</td>\n",
              "    </tr>\n",
              "  </tbody>\n",
              "</table>\n",
              "<p>5 rows × 500 columns</p>\n",
              "</div>\n",
              "      <button class=\"colab-df-convert\" onclick=\"convertToInteractive('df-78dcd672-ef37-43c6-95e7-8fa87e73c0a5')\"\n",
              "              title=\"Convert this dataframe to an interactive table.\"\n",
              "              style=\"display:none;\">\n",
              "        \n",
              "  <svg xmlns=\"http://www.w3.org/2000/svg\" height=\"24px\"viewBox=\"0 0 24 24\"\n",
              "       width=\"24px\">\n",
              "    <path d=\"M0 0h24v24H0V0z\" fill=\"none\"/>\n",
              "    <path d=\"M18.56 5.44l.94 2.06.94-2.06 2.06-.94-2.06-.94-.94-2.06-.94 2.06-2.06.94zm-11 1L8.5 8.5l.94-2.06 2.06-.94-2.06-.94L8.5 2.5l-.94 2.06-2.06.94zm10 10l.94 2.06.94-2.06 2.06-.94-2.06-.94-.94-2.06-.94 2.06-2.06.94z\"/><path d=\"M17.41 7.96l-1.37-1.37c-.4-.4-.92-.59-1.43-.59-.52 0-1.04.2-1.43.59L10.3 9.45l-7.72 7.72c-.78.78-.78 2.05 0 2.83L4 21.41c.39.39.9.59 1.41.59.51 0 1.02-.2 1.41-.59l7.78-7.78 2.81-2.81c.8-.78.8-2.07 0-2.86zM5.41 20L4 18.59l7.72-7.72 1.47 1.35L5.41 20z\"/>\n",
              "  </svg>\n",
              "      </button>\n",
              "      \n",
              "  <style>\n",
              "    .colab-df-container {\n",
              "      display:flex;\n",
              "      flex-wrap:wrap;\n",
              "      gap: 12px;\n",
              "    }\n",
              "\n",
              "    .colab-df-convert {\n",
              "      background-color: #E8F0FE;\n",
              "      border: none;\n",
              "      border-radius: 50%;\n",
              "      cursor: pointer;\n",
              "      display: none;\n",
              "      fill: #1967D2;\n",
              "      height: 32px;\n",
              "      padding: 0 0 0 0;\n",
              "      width: 32px;\n",
              "    }\n",
              "\n",
              "    .colab-df-convert:hover {\n",
              "      background-color: #E2EBFA;\n",
              "      box-shadow: 0px 1px 2px rgba(60, 64, 67, 0.3), 0px 1px 3px 1px rgba(60, 64, 67, 0.15);\n",
              "      fill: #174EA6;\n",
              "    }\n",
              "\n",
              "    [theme=dark] .colab-df-convert {\n",
              "      background-color: #3B4455;\n",
              "      fill: #D2E3FC;\n",
              "    }\n",
              "\n",
              "    [theme=dark] .colab-df-convert:hover {\n",
              "      background-color: #434B5C;\n",
              "      box-shadow: 0px 1px 3px 1px rgba(0, 0, 0, 0.15);\n",
              "      filter: drop-shadow(0px 1px 2px rgba(0, 0, 0, 0.3));\n",
              "      fill: #FFFFFF;\n",
              "    }\n",
              "  </style>\n",
              "\n",
              "      <script>\n",
              "        const buttonEl =\n",
              "          document.querySelector('#df-78dcd672-ef37-43c6-95e7-8fa87e73c0a5 button.colab-df-convert');\n",
              "        buttonEl.style.display =\n",
              "          google.colab.kernel.accessAllowed ? 'block' : 'none';\n",
              "\n",
              "        async function convertToInteractive(key) {\n",
              "          const element = document.querySelector('#df-78dcd672-ef37-43c6-95e7-8fa87e73c0a5');\n",
              "          const dataTable =\n",
              "            await google.colab.kernel.invokeFunction('convertToInteractive',\n",
              "                                                     [key], {});\n",
              "          if (!dataTable) return;\n",
              "\n",
              "          const docLinkHtml = 'Like what you see? Visit the ' +\n",
              "            '<a target=\"_blank\" href=https://colab.research.google.com/notebooks/data_table.ipynb>data table notebook</a>'\n",
              "            + ' to learn more about interactive tables.';\n",
              "          element.innerHTML = '';\n",
              "          dataTable['output_type'] = 'display_data';\n",
              "          await google.colab.output.renderOutput(dataTable, element);\n",
              "          const docLink = document.createElement('div');\n",
              "          docLink.innerHTML = docLinkHtml;\n",
              "          element.appendChild(docLink);\n",
              "        }\n",
              "      </script>\n",
              "    </div>\n",
              "  </div>\n",
              "  "
            ],
            "text/plain": [
              "                           /content/images/24274.jpg  ...  /content/images/3350.jpg\n",
              "/content/images/24274.jpg                   1.000000  ...                  0.625064\n",
              "/content/images/43687.jpg                   0.359362  ...                  0.437076\n",
              "/content/images/22612.jpg                   0.471643  ...                  0.495183\n",
              "/content/images/18634.jpg                   0.642062  ...                  0.630827\n",
              "/content/images/24941.jpg                   0.461697  ...                  0.428937\n",
              "\n",
              "[5 rows x 500 columns]"
            ]
          },
          "metadata": {},
          "execution_count": 70
        }
      ]
    },
    {
      "cell_type": "code",
      "source": [
        "def recommended_outfit(img):\n",
        "  \"\"\"\n",
        "  retrieve the most similar 5 products for the imputted image\n",
        "\n",
        "  arguements:\n",
        "  img: image that is going to be used to find its most similar products\n",
        "\n",
        "  return: none\n",
        "  \"\"\"\n",
        "  print(\"Original product:\")\n",
        "\n",
        "  original = load_img(img, target_size=(imgs_model_width, imgs_model_height))\n",
        "  plt.imshow(original)\n",
        "  plt.show()\n",
        "\n",
        "  print(\"\\n\\nMost similar products:\")\n",
        "\n",
        "  closest_imgs = cos_similarities_df[img].sort_values(ascending=False)[1:nb_closest_images+1].index\n",
        "  closest_imgs_scores = cos_similarities_df[img].sort_values(ascending=False)[1:nb_closest_images+1]\n",
        "\n",
        "  for i in range(len(closest_imgs)):\n",
        "      original = load_img(closest_imgs[i], target_size=(imgs_model_width, imgs_model_height))\n",
        "      plt.imshow(original)\n",
        "      plt.show()\n",
        "      print(\"similarity score : \",closest_imgs_scores[i])\n",
        "      print(\"\\n\\n\")"
      ],
      "metadata": {
        "id": "o6fvbmw87w-i"
      },
      "execution_count": 96,
      "outputs": []
    },
    {
      "cell_type": "code",
      "source": [
        "recommended_outfit(files[50])"
      ],
      "metadata": {
        "colab": {
          "base_uri": "https://localhost:8080/",
          "height": 1000
        },
        "id": "0NT82ngaL58p",
        "outputId": "9b41717b-83a2-4b48-e14f-3bdf3acf2b26"
      },
      "execution_count": 97,
      "outputs": [
        {
          "output_type": "stream",
          "name": "stdout",
          "text": [
            "Original product:\n"
          ]
        },
        {
          "output_type": "display_data",
          "data": {
            "image/png": "[encoded data removed]",
            "text/plain": [
              "<Figure size 432x288 with 1 Axes>"
            ]
          },
          "metadata": {
            "needs_background": "light"
          }
        },
        {
          "output_type": "stream",
          "name": "stdout",
          "text": [
            "\n",
            "\n",
            "Most similar products:\n"
          ]
        },
        {
          "output_type": "display_data",
          "data": {
            "image/png": "[encoded data removed]",
            "text/plain": [
              "<Figure size 432x288 with 1 Axes>"
            ]
          },
          "metadata": {
            "needs_background": "light"
          }
        },
        {
          "output_type": "stream",
          "name": "stdout",
          "text": [
            "similarity score :  0.81384695\n",
            "\n",
            "\n",
            "\n"
          ]
        },
        {
          "output_type": "display_data",
          "data": {
            "image/png": "[encoded data removed]",
            "text/plain": [
              "<Figure size 432x288 with 1 Axes>"
            ]
          },
          "metadata": {
            "needs_background": "light"
          }
        },
        {
          "output_type": "stream",
          "name": "stdout",
          "text": [
            "similarity score :  0.78934586\n",
            "\n",
            "\n",
            "\n"
          ]
        },
        {
          "output_type": "display_data",
          "data": {
            "image/png": "[encoded data removed]",
            "text/plain": [
              "<Figure size 432x288 with 1 Axes>"
            ]
          },
          "metadata": {
            "needs_background": "light"
          }
        },
        {
          "output_type": "stream",
          "name": "stdout",
          "text": [
            "similarity score :  0.782443\n",
            "\n",
            "\n",
            "\n"
          ]
        },
        {
          "output_type": "display_data",
          "data": {
            "image/png": "[encoded data removed]",
            "text/plain": [
              "<Figure size 432x288 with 1 Axes>"
            ]
          },
          "metadata": {
            "needs_background": "light"
          }
        },
        {
          "output_type": "stream",
          "name": "stdout",
          "text": [
            "similarity score :  0.78206307\n",
            "\n",
            "\n",
            "\n"
          ]
        },
        {
          "output_type": "display_data",
          "data": {
            "image/png": "[encoded data removed]",
            "text/plain": [
              "<Figure size 432x288 with 1 Axes>"
            ]
          },
          "metadata": {
            "needs_background": "light"
          }
        },
        {
          "output_type": "stream",
          "name": "stdout",
          "text": [
            "similarity score :  0.77827114\n",
            "\n",
            "\n",
            "\n"
          ]
        }
      ]
    },
    {
      "cell_type": "code",
      "source": [
        ""
      ],
      "metadata": {
        "id": "ZbkFMKRcNZxe"
      },
      "execution_count": null,
      "outputs": []
    }
  ]
}